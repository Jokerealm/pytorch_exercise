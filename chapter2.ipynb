{
 "cells": [
  {
   "cell_type": "code",
   "execution_count": 8,
   "metadata": {},
   "outputs": [
    {
     "name": "stdout",
     "output_type": "stream",
     "text": [
      "torch.Size([10, 1, 10])\n",
      "torch.Size([10, 10])\n",
      "(10, 10)\n",
      "torch.Size([1, 10, 1, 10])\n",
      "torch.Size([1, 10, 1, 10])\n",
      "torch.Size([10, 1, 1, 10])\n",
      "torch.Size([10, 1, 1, 10])\n"
     ]
    }
   ],
   "source": [
    "import numpy as np\n",
    "import torch\n",
    "\n",
    "# 维度变换\n",
    "# squeeze 用于删除维度\n",
    "x = torch.randn(10,1,10)\n",
    "z1 = x.squeeze(1)\n",
    "z2 = np.squeeze(x.numpy(), axis=1)\n",
    "print(x.shape)\n",
    "print(z1.shape)\n",
    "print(z2.shape)\n",
    "\n",
    "# unsequeeze 用于增加维度\n",
    "z1 = x.unsqueeze(0)\n",
    "print(z1.shape)\n",
    "# 还可以使用None去增加维度\n",
    "z1 = x[None]\n",
    "z2 = x[:,None]\n",
    "z3 = x[:,:,None]\n",
    "print(z1.shape)\n",
    "print(z2.shape)\n",
    "print(z3.shape)"
   ]
  },
  {
   "cell_type": "code",
   "execution_count": 9,
   "metadata": {},
   "outputs": [
    {
     "name": "stdout",
     "output_type": "stream",
     "text": [
      "tensor([[ 2.,  4.,  6.],\n",
      "        [ 8., 10., 12.]])\n"
     ]
    }
   ],
   "source": [
    "import numpy as np\n",
    "import torch\n",
    "\n",
    "x = torch.tensor([[1,2,3],[4,5,6]],requires_grad=True,dtype=torch.float32)\n",
    "y = x.pow(2).sum()\n",
    "y.backward()\n",
    "print(x.grad)\n"
   ]
  }
 ],
 "metadata": {
  "kernelspec": {
   "display_name": "exercise",
   "language": "python",
   "name": "python3"
  },
  "language_info": {
   "codemirror_mode": {
    "name": "ipython",
    "version": 3
   },
   "file_extension": ".py",
   "mimetype": "text/x-python",
   "name": "python",
   "nbconvert_exporter": "python",
   "pygments_lexer": "ipython3",
   "version": "3.9.0"
  }
 },
 "nbformat": 4,
 "nbformat_minor": 2
}
